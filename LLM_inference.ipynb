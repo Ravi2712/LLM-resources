{
 "cells": [
  {
   "cell_type": "code",
   "execution_count": 3,
   "id": "6a66277f-d15d-4322-add7-75c05db57176",
   "metadata": {},
   "outputs": [],
   "source": [
    "from transformers import AutoModelForCausalLM\n",
    "from transformers import AutoTokenizer\n",
    "from transformers import set_seed"
   ]
  },
  {
   "cell_type": "code",
   "execution_count": null,
   "id": "69af754a-9c27-4b50-9664-a772772c7e78",
   "metadata": {},
   "outputs": [],
   "source": []
  },
  {
   "cell_type": "code",
   "execution_count": null,
   "id": "bc4cb7bb-f647-4919-8e85-97e5f4a61c4f",
   "metadata": {},
   "outputs": [],
   "source": []
  },
  {
   "cell_type": "code",
   "execution_count": 59,
   "id": "189efe5d-03c3-404a-a1e0-b0c53b2faa5a",
   "metadata": {},
   "outputs": [
    {
     "data": {
      "text/html": [
       "\n",
       "    <video width=\"920\" height=\"500\" alt=\"LLM\" controls>\n",
       "        <source src=\"https://huggingface.co/datasets/huggingface/documentation-images/resolve/main/blog/assisted-generation/gif_1_1080p.mov\" type=\"video/mp4\">\n",
       "    </video>\n",
       "    \n",
       "    <video width=\"920\" height=\"500\" alt=\"LLM\" controls>\n",
       "        <source src=\"https://huggingface.co/datasets/huggingface/documentation-images/resolve/main/blog/assisted-generation/gif_2_1080p.mov\" type=\"video/mp4\">\n",
       "    </video>    \n"
      ],
      "text/plain": [
       "<IPython.core.display.HTML object>"
      ]
     },
     "execution_count": 59,
     "metadata": {},
     "output_type": "execute_result"
    }
   ],
   "source": [
    "'''\n",
    "# Reference: https://huggingface.co/docs/transformers/llm_tutorial\n",
    "\n",
    "STEPS:\n",
    "    1. Load pre-trained Model\n",
    "    2. Tokenize and encode the input\n",
    "    3. Forward pass (Inference)\n",
    "    4. Decode the output\n",
    "'''\n",
    "\n",
    "from IPython.display import HTML\n",
    "\n",
    "HTML(\"\"\"\n",
    "    <video width=\"920\" height=\"500\" alt=\"LLM\" controls>\n",
    "        <source src=\"https://huggingface.co/datasets/huggingface/documentation-images/resolve/main/blog/assisted-generation/gif_1_1080p.mov\" type=\"video/mp4\">\n",
    "    </video>\n",
    "    \n",
    "    <video width=\"920\" height=\"500\" alt=\"LLM\" controls>\n",
    "        <source src=\"https://huggingface.co/datasets/huggingface/documentation-images/resolve/main/blog/assisted-generation/gif_2_1080p.mov\" type=\"video/mp4\">\n",
    "    </video>    \n",
    "\"\"\")"
   ]
  },
  {
   "cell_type": "markdown",
   "id": "ac59c36a-de9f-49b5-aef2-38c8e7813f24",
   "metadata": {},
   "source": [
    "# Load Model"
   ]
  },
  {
   "cell_type": "code",
   "execution_count": 34,
   "id": "ed8cef89-25b5-43e2-ae3f-e4fa5664b0d0",
   "metadata": {},
   "outputs": [],
   "source": [
    "MODEL_NAME = \"mistralai/Mistral-7B-v0.1\""
   ]
  },
  {
   "cell_type": "code",
   "execution_count": 2,
   "id": "5fb9d280-6c98-4717-85c1-09cb9f0cdaa0",
   "metadata": {},
   "outputs": [
    {
     "data": {
      "application/vnd.jupyter.widget-view+json": {
       "model_id": "8bcc441d5968412aa3496eccae7ab025",
       "version_major": 2,
       "version_minor": 0
      },
      "text/plain": [
       "Loading checkpoint shards:   0%|          | 0/2 [00:00<?, ?it/s]"
      ]
     },
     "metadata": {},
     "output_type": "display_data"
    },
    {
     "data": {
      "application/vnd.jupyter.widget-view+json": {
       "model_id": "8249c9f730de4493b695717ad52c9414",
       "version_major": 2,
       "version_minor": 0
      },
      "text/plain": [
       "generation_config.json:   0%|          | 0.00/116 [00:00<?, ?B/s]"
      ]
     },
     "metadata": {},
     "output_type": "display_data"
    }
   ],
   "source": [
    "# CasaulLM from huggingface API\n",
    "model = AutoModelForCausalLM.from_pretrained(MODEL_NAME, device_map=\"auto\", load_in_4bit=True)"
   ]
  },
  {
   "cell_type": "code",
   "execution_count": null,
   "id": "e57cf65b-253a-4181-8ce3-cbc2811ca78e",
   "metadata": {},
   "outputs": [],
   "source": []
  },
  {
   "cell_type": "markdown",
   "id": "8af93097-f509-44ce-ac11-69c95a3707b4",
   "metadata": {},
   "source": [
    "# Tokenizer"
   ]
  },
  {
   "cell_type": "code",
   "execution_count": 37,
   "id": "fc9adeca-a2b5-4bfd-97cf-3c7d651b8629",
   "metadata": {},
   "outputs": [],
   "source": [
    "# Initiate AutoTokenizer\n",
    "tokenizer = AutoTokenizer.from_pretrained(MODEL_NAME, padding_side=\"left\")\n",
    "tokenizer.pad_token = tokenizer.eos_token\n",
    "\n",
    "\n",
    "# We can also do custom Tokenizer\n",
    "# For example,\n",
    "# tokenizer = RobertaTokenizer.from_pretrained(MODEL_NAME, truncation=True, do_lower_case=True)"
   ]
  },
  {
   "cell_type": "markdown",
   "id": "9644a46f-2ffd-4879-8bd9-4f0ff5f72836",
   "metadata": {},
   "source": [
    "### Input"
   ]
  },
  {
   "cell_type": "code",
   "execution_count": 38,
   "id": "71fb6358-4e46-44dc-bdc3-208721aa960a",
   "metadata": {},
   "outputs": [],
   "source": [
    "PROMPT = [\"Gujju means\"]"
   ]
  },
  {
   "cell_type": "code",
   "execution_count": 39,
   "id": "d41fbe12-b43d-47e6-bfb6-ba548bdd1070",
   "metadata": {},
   "outputs": [
    {
     "data": {
      "text/plain": [
       "['▁Gu', 'j', 'ju', '▁means']"
      ]
     },
     "execution_count": 39,
     "metadata": {},
     "output_type": "execute_result"
    }
   ],
   "source": [
    "# All different models have different method to create tokens\n",
    "tokens = tokenizer.tokenize(PROMPT)\n",
    "tokens"
   ]
  },
  {
   "cell_type": "code",
   "execution_count": 40,
   "id": "1403aa56-9d08-4da9-974e-fc48067943a5",
   "metadata": {},
   "outputs": [
    {
     "name": "stderr",
     "output_type": "stream",
     "text": [
      "Asking to pad to max_length but no maximum length is provided and the model has no predefined maximum length. Default to no padding.\n"
     ]
    },
    {
     "data": {
      "text/plain": [
       "{'input_ids': [1, 2480, 28768, 8948, 2825], 'attention_mask': [1, 1, 1, 1, 1]}"
      ]
     },
     "execution_count": 40,
     "metadata": {},
     "output_type": "execute_result"
    }
   ],
   "source": [
    "# Encode tokens\n",
    "enc = tokenizer.encode_plus(PROMPT, padding='max_length')\n",
    "enc"
   ]
  },
  {
   "cell_type": "code",
   "execution_count": 42,
   "id": "288bb0ea-de00-4df1-a9fa-4a55e28b5f57",
   "metadata": {},
   "outputs": [
    {
     "data": {
      "text/plain": [
       "'<s> Gujju means'"
      ]
     },
     "execution_count": 42,
     "metadata": {},
     "output_type": "execute_result"
    }
   ],
   "source": [
    "# Decode back to original\n",
    "dec = tokenizer.decode(enc['input_ids'])\n",
    "dec"
   ]
  },
  {
   "cell_type": "code",
   "execution_count": null,
   "id": "80c72e0a-8b30-4c8a-abb5-02eb0a33fc66",
   "metadata": {},
   "outputs": [],
   "source": []
  },
  {
   "cell_type": "code",
   "execution_count": null,
   "id": "d93a2b93-1ded-43da-a1b0-594d0974d9d1",
   "metadata": {},
   "outputs": [],
   "source": []
  },
  {
   "cell_type": "markdown",
   "id": "53619775-0cea-488a-80d8-4e6f677aa98e",
   "metadata": {},
   "source": [
    "# Inference"
   ]
  },
  {
   "cell_type": "code",
   "execution_count": 44,
   "id": "7b070776-0550-4c4e-aea3-a7f5a5d173ad",
   "metadata": {},
   "outputs": [
    {
     "name": "stderr",
     "output_type": "stream",
     "text": [
      "Setting `pad_token_id` to `eos_token_id`:2 for open-end generation.\n"
     ]
    },
    {
     "data": {
      "text/plain": [
       "tensor([[    1,  2480, 28768,  8948,  2825,  2480, 13036,  3986,   764,   272,\n",
       "           905,   477,  2480, 13036,   270,  3885,   302,  5558, 28723,  1306,\n",
       "           460,   835,  4387,  1401,   272,  3293,  1526,  1096,   302,  2480,\n",
       "         13036,   270, 28809, 28713,  8376,   384,  2995,  2006, 28708,  4889,\n",
       "           764,  2480, 28768,  8948, 28723,  1306,   460, 20995,   544,   754,\n",
       "           272,  1526,   297,  1955,   304, 23248,   505,  8061,  1238, 28723,\n",
       "            13,    13, 28777,  5872, 28768,   381,   460,  2651,   354,   652,\n",
       "          6821,  3367,   302,  1955,   304,   590,  1484, 10816,  9647,   297,\n",
       "          3344, 15860,  9549,   297,  1955,   690,   460,  4312,  5907,   805,\n",
       "           297,   272,  1043,  1850, 28723,    13,    13,  6037,   460,  4387,\n",
       "           354,   652,  1955,  1183, 20341,   764,   981,  1313,  4347, 15276,\n",
       "           298,   347,  6053, 28838,   764,   456,   349,   264,  2480, 28768,\n",
       "          8948,  2784, 21819, 28723,    13,    13,  1313,   403,   907,  1001,\n",
       "          1311,   486,   401, 22226,  1124,   286,   753,   304,   330,  1810,\n",
       "         16818,  9366, 11729,  8091,   693,   403,  2651,   390,   264,  3475,\n",
       "          2428,   444, 28733,   362, 18443, 28894, 28723,   415, 14804,   349,\n",
       "           396,  8223,   477,   272,  2966, 28725,   981,  2820,  4127,   288,\n",
       "           297,  5465,  9350,  6763,   486,   384, 24418,  9366,   304, 15346,\n",
       "           282,  2597,   407, 28708, 28723,   661,   403, 16818,  9366, 11729,\n",
       "          8091,   693,  1001,  1311,   456,   390,   264,  2480, 28768,  8948,\n",
       "           297,   272,  1348,  1069, 28723]], device='cuda:0')"
      ]
     },
     "execution_count": 44,
     "metadata": {},
     "output_type": "execute_result"
    }
   ],
   "source": [
    "# Create model input (automatically) through tokenizer\n",
    "model_inputs = tokenizer(PROMPT, padding=True, return_tensors=\"pt\").to(\"cuda\")\n",
    "\n",
    "# Make a forward pass\n",
    "generated_ids = model.generate(**model_inputs, max_new_tokens=200, do_sample=True)\n",
    "generated_ids"
   ]
  },
  {
   "cell_type": "code",
   "execution_count": 48,
   "id": "54b55bbe-e0a5-4bc8-9c31-2e22664bf188",
   "metadata": {},
   "outputs": [
    {
     "name": "stdout",
     "output_type": "stream",
     "text": [
      "Generated IDs from Model: 205\n"
     ]
    }
   ],
   "source": [
    "# Check length\n",
    "print(f\"Generated IDs from Model: {len(generated_ids[0])}\")"
   ]
  },
  {
   "cell_type": "code",
   "execution_count": null,
   "id": "2d903fe3-3b99-4e14-84d0-9d3fcb1c2ad8",
   "metadata": {},
   "outputs": [],
   "source": []
  },
  {
   "cell_type": "markdown",
   "id": "fdeedcbf-91da-41af-8a84-9acf762b78a8",
   "metadata": {},
   "source": [
    "### Decode"
   ]
  },
  {
   "cell_type": "code",
   "execution_count": 50,
   "id": "6d307db4-017c-4ff4-986f-a4921fc5890e",
   "metadata": {},
   "outputs": [
    {
     "data": {
      "text/plain": [
       "['Gujju means Gujarati – the people from Gujarat State of India. They are also popular around the entire world because of Gujarat’s famous Diaspora population – Gujju. They are scattered all over the world in business and entrepreneurial ventures.\\n\\nGujjus are known for their amazing sense of business and they never hesitate in taking bold decisions in business which are usually paid off in the long term.\\n\\nThey are popular for their business acumen – “It takes courage to be successful” – this is a Gujju trademark.\\n\\nIt was first coined by Famous Comedian and Actor Rajesh Khanna who was known as a ‘Heart-throb‘. The phrase is an extension from the film, “An Evening in Paris”, produced by Dharmesh and Kamal Mehta. It was Rajesh Khanna who coined this as a Gujju in the same way.']"
      ]
     },
     "execution_count": 50,
     "metadata": {},
     "output_type": "execute_result"
    }
   ],
   "source": [
    "# Decode the IDs to tokens(words)\n",
    "output = tokenizer.batch_decode(generated_ids, skip_special_tokens=True)\n",
    "output"
   ]
  },
  {
   "cell_type": "code",
   "execution_count": null,
   "id": "2781303f-43ac-4015-b765-8e40dc0f3e80",
   "metadata": {},
   "outputs": [],
   "source": []
  },
  {
   "cell_type": "code",
   "execution_count": null,
   "id": "c1418f8f-de97-49d0-aaaa-d3f7a645f819",
   "metadata": {},
   "outputs": [],
   "source": []
  },
  {
   "cell_type": "code",
   "execution_count": null,
   "id": "cf51e4eb-17ba-4cbb-bba4-d131920af251",
   "metadata": {},
   "outputs": [],
   "source": []
  },
  {
   "cell_type": "code",
   "execution_count": null,
   "id": "f833f64d-07a4-4dce-bb5f-702fa3a4b609",
   "metadata": {},
   "outputs": [],
   "source": []
  },
  {
   "cell_type": "markdown",
   "id": "3484407a-ace2-4ae4-863a-0ccdc3e84023",
   "metadata": {},
   "source": [
    "# Different Model / Different Config"
   ]
  },
  {
   "cell_type": "code",
   "execution_count": null,
   "id": "6181d43b-3098-4333-a23b-3c69181639db",
   "metadata": {},
   "outputs": [],
   "source": [
    "tokenizer = AutoTokenizer.from_pretrained(\"HuggingFaceH4/zephyr-7b-alpha\")\n",
    "model = AutoModelForCausalLM.from_pretrained(\n",
    "    \"HuggingFaceH4/zephyr-7b-alpha\", device_map=\"auto\", load_in_4bit=True\n",
    ")\n",
    "# set_seed(0)"
   ]
  },
  {
   "cell_type": "code",
   "execution_count": 10,
   "id": "6e9586f6-b70d-4f22-ad32-f3ee6d75d9e8",
   "metadata": {},
   "outputs": [],
   "source": [
    "# prompt = \"How many helicopters can a human eat in one sitting?\"\n",
    "prompt = \"Gujju is?\"\n",
    "\n",
    "messages = [\n",
    "    {\"role\": \"system\", \"content\": \"\"},\n",
    "    {\"role\": \"user\", \"content\": prompt},\n",
    "]\n",
    "model_inputs = tokenizer.apply_chat_template(messages, add_generation_prompt=True, return_tensors=\"pt\").to(\"cuda\")\n",
    "input_length = model_inputs.shape[1]\n",
    "generated_ids = model.generate(model_inputs, do_sample=True, max_new_tokens=200)"
   ]
  },
  {
   "cell_type": "code",
   "execution_count": 11,
   "id": "f177879a-ee66-46ba-8872-28e43627b3d6",
   "metadata": {},
   "outputs": [
    {
     "name": "stdout",
     "output_type": "stream",
     "text": [
      "Gujju is a common nickname or shorthand name for people and things originating from Gujarat, which is a state in western India. The term \"Guujju\" is derived from the Gujarati word \"Gujarati\" or \"Gujarathi,\" which is the primary language spoken in Gujarat. Gujju people are known for their entrepreneurial spirit, vegetarian cuisine, and vibrant cultural traditions.\n"
     ]
    }
   ],
   "source": [
    "tokenizer.batch_decode(generated_ids[:, input_length:], skip_special_tokens=True)[0]"
   ]
  },
  {
   "cell_type": "code",
   "execution_count": null,
   "id": "a403353c-5ae6-44f3-8bc0-a1f7acb4b42e",
   "metadata": {},
   "outputs": [],
   "source": []
  },
  {
   "cell_type": "code",
   "execution_count": null,
   "id": "2ea9228d-4f6e-434d-ba54-deca714aac99",
   "metadata": {},
   "outputs": [],
   "source": []
  },
  {
   "cell_type": "code",
   "execution_count": null,
   "id": "608cd69b-7668-48d6-8bc0-cdc29dacaa04",
   "metadata": {},
   "outputs": [],
   "source": []
  },
  {
   "cell_type": "code",
   "execution_count": null,
   "id": "4c584bc6-4178-4e9c-8212-5b1b15dcc782",
   "metadata": {},
   "outputs": [],
   "source": []
  },
  {
   "cell_type": "markdown",
   "id": "212db8ac-c27b-4875-856e-7dc282fc7fb4",
   "metadata": {},
   "source": [
    "# TEMP"
   ]
  },
  {
   "cell_type": "code",
   "execution_count": 51,
   "id": "825c71d9-4e9f-4431-ac9a-f95961912593",
   "metadata": {},
   "outputs": [
    {
     "data": {
      "text/plain": [
       "['Gujju means Gujarati – the people from Gujarat State of India. They are also popular around the entire world because of Gujarat’s famous Diaspora population – Gujju. They are scattered all over the world in business and entrepreneurial ventures.\\n\\nGujjus are known for their amazing sense of business and they never hesitate in taking bold decisions in business which are usually paid off in the long term.\\n\\nThey are popular for their business acumen – “It takes courage to be successful” – this is a Gujju trademark.\\n\\nIt was first coined by Famous Comedian and Actor Rajesh Khanna who was known as a ‘Heart-throb‘. The phrase is an extension from the film, “An Evening in Paris”, produced by Dharmesh and Kamal Mehta. It was Rajesh Khanna who coined this as a Gujju in the same way.']"
      ]
     },
     "execution_count": 51,
     "metadata": {},
     "output_type": "execute_result"
    }
   ],
   "source": [
    "['Gujju means Gujarati – the people from Gujarat State of India. They are also popular around the entire world because of Gujarat’s famous Diaspora population – Gujju. They are scattered all over the world in business and entrepreneurial ventures.\\n\\nGujjus are known for their amazing sense of business and they never hesitate in taking bold decisions in business which are usually paid off in the long term.\\n\\nThey are popular for their business acumen – “It takes courage to be successful” – this is a Gujju trademark.\\n\\nIt was first coined by Famous Comedian and Actor Rajesh Khanna who was known as a ‘Heart-throb‘. The phrase is an extension from the film, “An Evening in Paris”, produced by Dharmesh and Kamal Mehta. It was Rajesh Khanna who coined this as a Gujju in the same way.']"
   ]
  },
  {
   "cell_type": "code",
   "execution_count": null,
   "id": "67776d47-fbb8-4371-99d1-2f130fdf33b1",
   "metadata": {},
   "outputs": [],
   "source": []
  }
 ],
 "metadata": {
  "kernelspec": {
   "display_name": "Python 3 (ipykernel)",
   "language": "python",
   "name": "python3"
  },
  "language_info": {
   "codemirror_mode": {
    "name": "ipython",
    "version": 3
   },
   "file_extension": ".py",
   "mimetype": "text/x-python",
   "name": "python",
   "nbconvert_exporter": "python",
   "pygments_lexer": "ipython3",
   "version": "3.9.10"
  }
 },
 "nbformat": 4,
 "nbformat_minor": 5
}
